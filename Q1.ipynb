{
 "cells": [
  {
   "cell_type": "code",
   "execution_count": 1,
   "id": "896d7011-a9d7-4f58-b0dd-42ef5d68adb1",
   "metadata": {},
   "outputs": [],
   "source": [
    "# IMF MCMCO Test Question 1"
   ]
  },
  {
   "cell_type": "code",
   "execution_count": 3,
   "id": "f2f1104b-832a-41f0-b76c-3fb4825a9c0b",
   "metadata": {},
   "outputs": [],
   "source": [
    "import ets_mod "
   ]
  },
  {
   "cell_type": "code",
   "execution_count": 4,
   "id": "9cd68ea2-5ef8-4f5f-b589-0f8083118f45",
   "metadata": {},
   "outputs": [],
   "source": [
    "import pandas as pd\n",
    "import numpy as np"
   ]
  },
  {
   "cell_type": "code",
   "execution_count": null,
   "id": "834f6eec-ebb8-4cac-b5a8-631951262b81",
   "metadata": {},
   "outputs": [],
   "source": []
  },
  {
   "cell_type": "code",
   "execution_count": 5,
   "id": "dfadca26-e5fe-4706-833e-7c27f2132cd0",
   "metadata": {},
   "outputs": [],
   "source": [
    "# Retrieve currency in circulation times series from the Bank of Zambia website.\n",
    "z_url = 'https://www.boz.zm/FORTNIGHTLYTIMESERIESendingSeptember202024.xlsx'\n",
    "\n",
    "df_raw = pd.read_excel(z_url, sheet_name='Reserve Money', skiprows=6)"
   ]
  },
  {
   "cell_type": "code",
   "execution_count": 6,
   "id": "d11c03bd-5bd9-460d-a71d-a5a7cd62a631",
   "metadata": {},
   "outputs": [],
   "source": [
    "# Data cleaning\n",
    "circulation = df_raw.loc[:,\"Circulation\"].iloc[:2965]\n",
    "date = df_raw.loc[:,\"Unnamed: 1\"].iloc[:2965]\n",
    "\n",
    "df = pd.DataFrame({\"date\": date, \"circulation\": circulation})\n",
    "df['date'] = pd.to_datetime(df['date']).dt.date"
   ]
  },
  {
   "cell_type": "code",
   "execution_count": 7,
   "id": "cd8770e2-2e58-4669-b45d-98108d1a9257",
   "metadata": {},
   "outputs": [],
   "source": [
    "circulation = circulation.astype(float)"
   ]
  },
  {
   "cell_type": "code",
   "execution_count": null,
   "id": "abbb1b8d-61c7-41f8-8ad6-d54f1868f763",
   "metadata": {},
   "outputs": [],
   "source": []
  },
  {
   "cell_type": "code",
   "execution_count": 8,
   "id": "5cdf85f6-845c-4e7a-9196-8de79d1e59c2",
   "metadata": {},
   "outputs": [],
   "source": [
    "# Fitting Exponential Smoothing model\n",
    "model = ets_mod.ETS_Model(circulation, trend=\"mul\", seasonal=\"mul\", seasonal_periods=7)"
   ]
  },
  {
   "cell_type": "code",
   "execution_count": 9,
   "id": "3639fcdd-48c0-468e-911d-217389064e2f",
   "metadata": {},
   "outputs": [
    {
     "name": "stdout",
     "output_type": "stream",
     "text": [
      "                                 ETS Results                                  \n",
      "==============================================================================\n",
      "Dep. Variable:            Circulation   No. Observations:                 2965\n",
      "Model:                       ETS(AMM)   Log Likelihood              -37838.071\n",
      "Date:                Fri, 17 Oct 2025   AIC                          75702.141\n",
      "Time:                        10:00:06   BIC                          75780.072\n",
      "Sample:                             0   HQIC                         75730.189\n",
      "                               - 2965   Scale                   7113594126.682\n",
      "Covariance Type:               approx                                         \n",
      "======================================================================================\n",
      "                         coef    std err          z      P>|z|      [0.025      0.975]\n",
      "--------------------------------------------------------------------------------------\n",
      "smoothing_level        0.9999      0.021     47.994      0.000       0.959       1.041\n",
      "smoothing_trend        0.4678      0.023     20.552      0.000       0.423       0.512\n",
      "smoothing_seasonal  5.734e-05      0.002      0.036      0.972      -0.003       0.003\n",
      "initial_level       4.317e+06   5.41e-08   7.98e+13      0.000    4.32e+06    4.32e+06\n",
      "initial_trend          0.9459      0.024     40.175      0.000       0.900       0.992\n",
      "initial_seasonal.0     0.9997      0.027     36.680      0.000       0.946       1.053\n",
      "initial_seasonal.1     1.0007      0.027     36.679      0.000       0.947       1.054\n",
      "initial_seasonal.2     1.0006      0.027     36.654      0.000       0.947       1.054\n",
      "initial_seasonal.3     1.0012      0.027     36.678      0.000       0.948       1.055\n",
      "initial_seasonal.4     1.0007      0.027     36.676      0.000       0.947       1.054\n",
      "initial_seasonal.5     1.0001      0.027     36.679      0.000       0.947       1.054\n",
      "initial_seasonal.6     1.0000      0.027     36.686      0.000       0.947       1.053\n",
      "===================================================================================\n",
      "Ljung-Box (Q):                      248.56   Jarque-Bera (JB):            459718.45\n",
      "Prob(Q):                              0.00   Prob(JB):                         0.00\n",
      "Heteroskedasticity (H):               4.11   Skew:                            -2.61\n",
      "Prob(H) (two-sided):                  0.00   Kurtosis:                        63.78\n",
      "===================================================================================\n",
      "\n",
      "Warnings:\n",
      "[1] Covariance matrix calculated using numerical (complex-step) differentiation.\n",
      "[2] Covariance matrix is singular or near-singular, with condition number 7.8e+19. Standard errors may be unstable.\n"
     ]
    },
    {
     "ename": "AttributeError",
     "evalue": "'ETSResults' object has no attribute 'phi'",
     "output_type": "error",
     "traceback": [
      "\u001b[0;31m---------------------------------------------------------------------------\u001b[0m",
      "\u001b[0;31mAttributeError\u001b[0m                            Traceback (most recent call last)",
      "\u001b[0;32m/var/folders/8y/b23l4s852hv1qt9j7k5r26h80000gn/T/ipykernel_39193/799096763.py\u001b[0m in \u001b[0;36m<module>\u001b[0;34m\u001b[0m\n\u001b[1;32m      1\u001b[0m \u001b[0;31m# Summary\u001b[0m\u001b[0;34m\u001b[0m\u001b[0;34m\u001b[0m\u001b[0m\n\u001b[0;32m----> 2\u001b[0;31m \u001b[0mmodel\u001b[0m\u001b[0;34m.\u001b[0m\u001b[0msummary\u001b[0m\u001b[0;34m(\u001b[0m\u001b[0;34m)\u001b[0m\u001b[0;34m\u001b[0m\u001b[0;34m\u001b[0m\u001b[0m\n\u001b[0m",
      "\u001b[0;32m~/Desktop/copy/IMF-tests/IMF-MCMCO-test/Bodi_Yang_MCMCO_test/ets_mod.py\u001b[0m in \u001b[0;36msummary\u001b[0;34m(self)\u001b[0m\n\u001b[1;32m     64\u001b[0m \u001b[0;34m\u001b[0m\u001b[0m\n\u001b[1;32m     65\u001b[0m         \u001b[0;32mif\u001b[0m \u001b[0mself\u001b[0m\u001b[0;34m.\u001b[0m\u001b[0mtrend\u001b[0m\u001b[0;34m!=\u001b[0m\u001b[0;32mNone\u001b[0m\u001b[0;34m:\u001b[0m\u001b[0;34m\u001b[0m\u001b[0;34m\u001b[0m\u001b[0m\n\u001b[0;32m---> 66\u001b[0;31m             \u001b[0mres_df\u001b[0m\u001b[0;34m[\u001b[0m\u001b[0;34m'Damping Trend'\u001b[0m\u001b[0;34m]\u001b[0m \u001b[0;34m=\u001b[0m \u001b[0mself\u001b[0m\u001b[0;34m.\u001b[0m\u001b[0mfit\u001b[0m\u001b[0;34m.\u001b[0m\u001b[0mphi\u001b[0m\u001b[0;34m\u001b[0m\u001b[0;34m\u001b[0m\u001b[0m\n\u001b[0m\u001b[1;32m     67\u001b[0m \u001b[0;34m\u001b[0m\u001b[0m\n\u001b[1;32m     68\u001b[0m         \u001b[0;32mif\u001b[0m \u001b[0mself\u001b[0m\u001b[0;34m.\u001b[0m\u001b[0mseasonal\u001b[0m\u001b[0;34m!=\u001b[0m\u001b[0;32mNone\u001b[0m\u001b[0;34m:\u001b[0m\u001b[0;34m\u001b[0m\u001b[0;34m\u001b[0m\u001b[0m\n",
      "\u001b[0;32m/opt/miniconda3/lib/python3.9/site-packages/statsmodels/base/wrapper.py\u001b[0m in \u001b[0;36m__getattribute__\u001b[0;34m(self, attr)\u001b[0m\n\u001b[1;32m     32\u001b[0m             \u001b[0;32mpass\u001b[0m\u001b[0;34m\u001b[0m\u001b[0;34m\u001b[0m\u001b[0m\n\u001b[1;32m     33\u001b[0m \u001b[0;34m\u001b[0m\u001b[0m\n\u001b[0;32m---> 34\u001b[0;31m         \u001b[0mobj\u001b[0m \u001b[0;34m=\u001b[0m \u001b[0mgetattr\u001b[0m\u001b[0;34m(\u001b[0m\u001b[0mresults\u001b[0m\u001b[0;34m,\u001b[0m \u001b[0mattr\u001b[0m\u001b[0;34m)\u001b[0m\u001b[0;34m\u001b[0m\u001b[0;34m\u001b[0m\u001b[0m\n\u001b[0m\u001b[1;32m     35\u001b[0m         \u001b[0mdata\u001b[0m \u001b[0;34m=\u001b[0m \u001b[0mresults\u001b[0m\u001b[0;34m.\u001b[0m\u001b[0mmodel\u001b[0m\u001b[0;34m.\u001b[0m\u001b[0mdata\u001b[0m\u001b[0;34m\u001b[0m\u001b[0;34m\u001b[0m\u001b[0m\n\u001b[1;32m     36\u001b[0m         \u001b[0mhow\u001b[0m \u001b[0;34m=\u001b[0m \u001b[0mself\u001b[0m\u001b[0;34m.\u001b[0m\u001b[0m_wrap_attrs\u001b[0m\u001b[0;34m.\u001b[0m\u001b[0mget\u001b[0m\u001b[0;34m(\u001b[0m\u001b[0mattr\u001b[0m\u001b[0;34m)\u001b[0m\u001b[0;34m\u001b[0m\u001b[0;34m\u001b[0m\u001b[0m\n",
      "\u001b[0;31mAttributeError\u001b[0m: 'ETSResults' object has no attribute 'phi'"
     ]
    }
   ],
   "source": [
    "# Summary\n",
    "model.summary()"
   ]
  },
  {
   "cell_type": "code",
   "execution_count": 10,
   "id": "b433f4a7-cb70-4ef4-9a1c-4881a96a8505",
   "metadata": {},
   "outputs": [
    {
     "data": {
      "image/png": "[encoded data removed]",
      "text/plain": [
       "<Figure size 864x576 with 1 Axes>"
      ]
     },
     "metadata": {
      "needs_background": "light"
     },
     "output_type": "display_data"
    }
   ],
   "source": [
    "# Plot\n",
    "model.plot()"
   ]
  },
  {
   "cell_type": "code",
   "execution_count": 11,
   "id": "101649d0-edcb-4b84-8055-ba6b6701e236",
   "metadata": {},
   "outputs": [
    {
     "name": "stdout",
     "output_type": "stream",
     "text": [
      "2965    18422009\n",
      "2966    18361510\n",
      "2967    18280110\n",
      "2968    18223477\n",
      "2969    18164050\n",
      "2970    18112083\n",
      "2971    18060942\n",
      "Name: simulation, dtype: int64\n"
     ]
    }
   ],
   "source": [
    "# Forecast for the next week 7 days\n",
    "es_forecast = model.forecast(days=7)\n",
    "\n",
    "es_forecast = es_forecast.astype(int)\n",
    "\n",
    "print(es_forecast)"
   ]
  },
  {
   "cell_type": "code",
   "execution_count": null,
   "id": "9e21de90-b28e-444f-8ee0-164c51e18162",
   "metadata": {},
   "outputs": [],
   "source": []
  },
  {
   "cell_type": "code",
   "execution_count": null,
   "id": "e0a7fd50-fe3d-4518-ab62-ac48cff0a781",
   "metadata": {},
   "outputs": [],
   "source": []
  },
  {
   "cell_type": "code",
   "execution_count": 11,
   "id": "916504fc-c416-434b-9e69-5fe1d718c124",
   "metadata": {},
   "outputs": [
    {
     "name": "stderr",
     "output_type": "stream",
     "text": [
      "2024-10-27 19:20:02.928530: I tensorflow/core/platform/cpu_feature_guard.cc:210] This TensorFlow binary is optimized to use available CPU instructions in performance-critical operations.\n",
      "To enable the following instructions: AVX2 AVX512F AVX512_VNNI FMA, in other operations, rebuild TensorFlow with the appropriate compiler flags.\n"
     ]
    }
   ],
   "source": [
    "from sklearn.preprocessing import MinMaxScaler\n",
    "from tensorflow.keras.models import Sequential\n",
    "from tensorflow.keras.layers import Dense, LSTM\n",
    "from tensorflow.keras.optimizers import Adam"
   ]
  },
  {
   "cell_type": "code",
   "execution_count": 12,
   "id": "f9e3ecab-b14e-4968-8974-18f24f0dd2d7",
   "metadata": {},
   "outputs": [],
   "source": [
    "data = circulation "
   ]
  },
  {
   "cell_type": "code",
   "execution_count": 13,
   "id": "2b209ad0-2492-4503-9d16-d629a4902213",
   "metadata": {},
   "outputs": [],
   "source": [
    "# Parameters for the LSTM model\n",
    "look_back = 30  \n",
    "\n",
    "# Data Preprocessing\n",
    "scaler = MinMaxScaler(feature_range=(0, 1))\n",
    "data_scaled = scaler.fit_transform(data.values.reshape(-1, 1))\n"
   ]
  },
  {
   "cell_type": "code",
   "execution_count": 14,
   "id": "1856a97b-6322-43a8-a628-bf827a787b82",
   "metadata": {},
   "outputs": [],
   "source": [
    "# Creating sequences for LSTM\n",
    "X, y = [], []\n",
    "for i in range(look_back, len(data_scaled)):\n",
    "    X.append(data_scaled[i - look_back:i, 0])\n",
    "    y.append(data_scaled[i, 0])\n",
    "X, y = np.array(X), np.array(y)\n",
    "\n",
    "# Reshaping input to be [samples, time steps, features] as required for LSTM\n",
    "X = np.reshape(X, (X.shape[0], X.shape[1], 1))"
   ]
  },
  {
   "cell_type": "code",
   "execution_count": 15,
   "id": "3cd51c8e-3ad0-425d-9c58-cbc938a05a58",
   "metadata": {},
   "outputs": [],
   "source": [
    "# model construction"
   ]
  },
  {
   "cell_type": "code",
   "execution_count": 16,
   "id": "21979941-56c2-402f-9080-1ae5cfce6990",
   "metadata": {},
   "outputs": [
    {
     "name": "stderr",
     "output_type": "stream",
     "text": [
      "/opt/miniconda3/lib/python3.9/site-packages/keras/src/layers/rnn/rnn.py:204: UserWarning: Do not pass an `input_shape`/`input_dim` argument to a layer. When using Sequential models, prefer using an `Input(shape)` object as the first layer in the model instead.\n",
      "  super().__init__(**kwargs)\n"
     ]
    }
   ],
   "source": [
    "model = Sequential([\n",
    "    LSTM(50, return_sequences=True, input_shape=(X.shape[1], 1)),\n",
    "    LSTM(50, return_sequences=False),\n",
    "    Dense(25),\n",
    "    Dense(1)\n",
    "])"
   ]
  },
  {
   "cell_type": "code",
   "execution_count": 17,
   "id": "6fb36cdf-eb40-4e61-a1f4-1a728755275d",
   "metadata": {},
   "outputs": [],
   "source": [
    "model.compile(optimizer=Adam(learning_rate=0.001), loss='mean_squared_error')"
   ]
  },
  {
   "cell_type": "code",
   "execution_count": null,
   "id": "565c41eb-e53c-4d0a-9b86-3561b6d0194a",
   "metadata": {},
   "outputs": [
    {
     "name": "stdout",
     "output_type": "stream",
     "text": [
      "Epoch 1/10\n",
      "\u001b[1m2935/2935\u001b[0m \u001b[32m━━━━━━━━━━━━━━━━━━━━\u001b[0m\u001b[37m\u001b[0m \u001b[1m21s\u001b[0m 7ms/step - loss: 0.0022\n",
      "Epoch 2/10\n",
      "\u001b[1m2935/2935\u001b[0m \u001b[32m━━━━━━━━━━━━━━━━━━━━\u001b[0m\u001b[37m\u001b[0m \u001b[1m19s\u001b[0m 6ms/step - loss: 3.6827e-04\n",
      "Epoch 3/10\n",
      "\u001b[1m2935/2935\u001b[0m \u001b[32m━━━━━━━━━━━━━━━━━━━━\u001b[0m\u001b[37m\u001b[0m \u001b[1m19s\u001b[0m 7ms/step - loss: 2.2101e-04\n",
      "Epoch 4/10\n",
      "\u001b[1m2935/2935\u001b[0m \u001b[32m━━━━━━━━━━━━━━━━━━━━\u001b[0m\u001b[37m\u001b[0m \u001b[1m19s\u001b[0m 7ms/step - loss: 1.3407e-04\n",
      "Epoch 5/10\n",
      "\u001b[1m2935/2935\u001b[0m \u001b[32m━━━━━━━━━━━━━━━━━━━━\u001b[0m\u001b[37m\u001b[0m \u001b[1m19s\u001b[0m 7ms/step - loss: 1.0260e-04\n",
      "Epoch 6/10\n",
      "\u001b[1m2935/2935\u001b[0m \u001b[32m━━━━━━━━━━━━━━━━━━━━\u001b[0m\u001b[37m\u001b[0m \u001b[1m19s\u001b[0m 7ms/step - loss: 1.3919e-04\n",
      "Epoch 7/10\n",
      "\u001b[1m2935/2935\u001b[0m \u001b[32m━━━━━━━━━━━━━━━━━━━━\u001b[0m\u001b[37m\u001b[0m \u001b[1m19s\u001b[0m 7ms/step - loss: 1.1094e-04\n",
      "Epoch 8/10\n",
      "\u001b[1m2935/2935\u001b[0m \u001b[32m━━━━━━━━━━━━━━━━━━━━\u001b[0m\u001b[37m\u001b[0m \u001b[1m19s\u001b[0m 7ms/step - loss: 7.4144e-05\n",
      "Epoch 9/10\n",
      "\u001b[1m1065/2935\u001b[0m \u001b[32m━━━━━━━\u001b[0m\u001b[37m━━━━━━━━━━━━━\u001b[0m \u001b[1m12s\u001b[0m 7ms/step - loss: 1.2574e-04"
     ]
    }
   ],
   "source": [
    "model.fit(X, y, epochs=10, batch_size=1, verbose=1)"
   ]
  },
  {
   "cell_type": "code",
   "execution_count": null,
   "id": "eb5d3ff7-2060-40d3-ab26-389fde0060f3",
   "metadata": {},
   "outputs": [],
   "source": []
  },
  {
   "cell_type": "code",
   "execution_count": 19,
   "id": "b05d7afb-92e9-4519-b058-b978a37efc06",
   "metadata": {},
   "outputs": [
    {
     "name": "stdout",
     "output_type": "stream",
     "text": [
      "\u001b[1m1/1\u001b[0m \u001b[32m━━━━━━━━━━━━━━━━━━━━\u001b[0m\u001b[37m\u001b[0m \u001b[1m0s\u001b[0m 211ms/step\n",
      "\u001b[1m1/1\u001b[0m \u001b[32m━━━━━━━━━━━━━━━━━━━━\u001b[0m\u001b[37m\u001b[0m \u001b[1m0s\u001b[0m 22ms/step\n",
      "\u001b[1m1/1\u001b[0m \u001b[32m━━━━━━━━━━━━━━━━━━━━\u001b[0m\u001b[37m\u001b[0m \u001b[1m0s\u001b[0m 19ms/step\n",
      "\u001b[1m1/1\u001b[0m \u001b[32m━━━━━━━━━━━━━━━━━━━━\u001b[0m\u001b[37m\u001b[0m \u001b[1m0s\u001b[0m 16ms/step\n",
      "\u001b[1m1/1\u001b[0m \u001b[32m━━━━━━━━━━━━━━━━━━━━\u001b[0m\u001b[37m\u001b[0m \u001b[1m0s\u001b[0m 16ms/step\n",
      "\u001b[1m1/1\u001b[0m \u001b[32m━━━━━━━━━━━━━━━━━━━━\u001b[0m\u001b[37m\u001b[0m \u001b[1m0s\u001b[0m 16ms/step\n",
      "\u001b[1m1/1\u001b[0m \u001b[32m━━━━━━━━━━━━━━━━━━━━\u001b[0m\u001b[37m\u001b[0m \u001b[1m0s\u001b[0m 16ms/step\n",
      "7-day forecast: [18576240. 18708606. 18858248. 19022270. 19195040. 19367860. 19531338.]\n"
     ]
    }
   ],
   "source": [
    "# Forecasting next 7 days\n",
    "\n",
    "last_sequence = data_scaled[-look_back:]\n",
    "forecast = []\n",
    "\n",
    "for _ in range(7):\n",
    "    pred = model.predict(last_sequence.reshape(1, look_back, 1))\n",
    "    forecast.append(pred[0, 0])\n",
    "    last_sequence = np.append(last_sequence[1:], pred)\n",
    "\n",
    "# Inverse scaling the forecasted values\n",
    "forecast = scaler.inverse_transform(np.array(forecast).reshape(-1, 1)).flatten()\n",
    "\n",
    "print(\"7-day forecast:\", forecast)"
   ]
  },
  {
   "cell_type": "code",
   "execution_count": null,
   "id": "046bcfa1-58cf-4031-9485-2ac968d78e46",
   "metadata": {},
   "outputs": [],
   "source": []
  },
  {
   "cell_type": "code",
   "execution_count": null,
   "id": "c1b8cb61-853c-42b6-8b8c-1aae9c4916bd",
   "metadata": {},
   "outputs": [],
   "source": []
  }
 ],
 "metadata": {
  "kernelspec": {
   "display_name": "Python 3 (ipykernel)",
   "language": "python",
   "name": "python3"
  },
  "language_info": {
   "codemirror_mode": {
    "name": "ipython",
    "version": 3
   },
   "file_extension": ".py",
   "mimetype": "text/x-python",
   "name": "python",
   "nbconvert_exporter": "python",
   "pygments_lexer": "ipython3",
   "version": "3.9.13"
  }
 },
 "nbformat": 4,
 "nbformat_minor": 5
}

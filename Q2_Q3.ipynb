{
 "cells": [
  {
   "cell_type": "code",
   "execution_count": 1,
   "id": "ca81b009-a5eb-457c-bed3-2752146815ee",
   "metadata": {},
   "outputs": [],
   "source": [
    "# MCMCO Test Question 2 and Question 3"
   ]
  },
  {
   "cell_type": "code",
   "execution_count": null,
   "id": "5b276186-f658-4b9f-97e3-ef4a80ea93a0",
   "metadata": {},
   "outputs": [],
   "source": []
  },
  {
   "cell_type": "code",
   "execution_count": 2,
   "id": "5addf82a-00ce-43a1-9ec3-935ab5eebeb1",
   "metadata": {},
   "outputs": [],
   "source": [
    "# Test Question Q.2"
   ]
  },
  {
   "cell_type": "code",
   "execution_count": 2,
   "id": "c6736afd",
   "metadata": {},
   "outputs": [],
   "source": [
    "import pandas as pd\n",
    "import numpy as np\n",
    "import yfinance as yf\n",
    "from arch import arch_model\n",
    "import matplotlib.pyplot as plt"
   ]
  },
  {
   "cell_type": "code",
   "execution_count": 3,
   "id": "3472f9b0-3ab3-4b1a-9cc3-094363fa296c",
   "metadata": {},
   "outputs": [],
   "source": [
    "# Data Source: data of EUR/USD exchange rate is downloaded from FRED\n",
    "# https://fred.stlouisfed.org/series/DEXUSEU"
   ]
  },
  {
   "cell_type": "code",
   "execution_count": 4,
   "id": "27b20e42-50f9-46bc-830b-a8314819f4da",
   "metadata": {},
   "outputs": [],
   "source": [
    "fx_data = pd.read_csv('DEXUSEU.csv').dropna()"
   ]
  },
  {
   "cell_type": "code",
   "execution_count": 5,
   "id": "fbe3bde3-bf55-4914-a627-d8f4e03d3c60",
   "metadata": {},
   "outputs": [],
   "source": [
    "fx_data['DEXUSEU'] = pd.to_numeric(fx_data['DEXUSEU'], errors='coerce')"
   ]
  },
  {
   "cell_type": "code",
   "execution_count": 6,
   "id": "29d421a8-92e3-4311-afb2-9a2e0b2fad0a",
   "metadata": {},
   "outputs": [],
   "source": [
    "# calculate log return \n",
    "fx_data['Log_Return'] = np.log(fx_data['DEXUSEU'] / fx_data['DEXUSEU'].shift(1)).dropna()"
   ]
  },
  {
   "cell_type": "code",
   "execution_count": null,
   "id": "e0728863-9518-4216-bf9f-3594f2fcd75a",
   "metadata": {},
   "outputs": [],
   "source": []
  },
  {
   "cell_type": "code",
   "execution_count": 7,
   "id": "e558093d-9f44-438b-a181-705eb7b1e8ec",
   "metadata": {},
   "outputs": [],
   "source": [
    "# Data Source: data of EFFR is from New York Fed https://www.newyorkfed.org/markets/reference-rates/effr\n",
    "# data file can be downladed from https://markets.newyorkfed.org/read?startDt=2019-10-18&endDt=2024-10-18&eventCodes=500&productCode=50&sort=postDt:-1,eventCode:1&format=xlsx"
   ]
  },
  {
   "cell_type": "code",
   "execution_count": 8,
   "id": "3b9d03a7",
   "metadata": {},
   "outputs": [
    {
     "name": "stderr",
     "output_type": "stream",
     "text": [
      "/opt/miniconda3/lib/python3.9/site-packages/openpyxl/styles/stylesheet.py:237: UserWarning: Workbook contains no default style, apply openpyxl's default\n",
      "  warn(\"Workbook contains no default style, apply openpyxl's default\")\n"
     ]
    }
   ],
   "source": [
    "effr_url = \"https://markets.newyorkfed.org/read?startDt=2019-10-18&endDt=2024-10-18&eventCodes=500&productCode=50&sort=postDt:-1,eventCode:1&format=xlsx\"\n",
    "effr_df = pd.read_excel(effr_url)"
   ]
  },
  {
   "cell_type": "code",
   "execution_count": 9,
   "id": "3081b2b4",
   "metadata": {
    "scrolled": true
   },
   "outputs": [
    {
     "data": {
      "text/html": [
       "<div>\n",
       "<style scoped>\n",
       "    .dataframe tbody tr th:only-of-type {\n",
       "        vertical-align: middle;\n",
       "    }\n",
       "\n",
       "    .dataframe tbody tr th {\n",
       "        vertical-align: top;\n",
       "    }\n",
       "\n",
       "    .dataframe thead th {\n",
       "        text-align: right;\n",
       "    }\n",
       "</style>\n",
       "<table border=\"1\" class=\"dataframe\">\n",
       "  <thead>\n",
       "    <tr style=\"text-align: right;\">\n",
       "      <th></th>\n",
       "      <th>Effective Date</th>\n",
       "      <th>Rate Type</th>\n",
       "      <th>Rate (%)</th>\n",
       "      <th>1st Percentile (%)</th>\n",
       "      <th>25th Percentile (%)</th>\n",
       "      <th>75th Percentile (%)</th>\n",
       "      <th>99th Percentile (%)</th>\n",
       "      <th>Volume ($Billions)</th>\n",
       "      <th>Target Rate From (%)</th>\n",
       "      <th>Target Rate To (%)</th>\n",
       "      <th>Intra Day - Low (%)</th>\n",
       "      <th>Intra Day - High (%)</th>\n",
       "      <th>Standard Deviation (%)</th>\n",
       "      <th>30-Day Average SOFR</th>\n",
       "      <th>90-Day Average SOFR</th>\n",
       "      <th>180-Day Average SOFR</th>\n",
       "      <th>SOFR Index</th>\n",
       "      <th>Revision Indicator (Y/N)</th>\n",
       "      <th>Footnote ID</th>\n",
       "    </tr>\n",
       "  </thead>\n",
       "  <tbody>\n",
       "    <tr>\n",
       "      <th>0</th>\n",
       "      <td>10/18/2024</td>\n",
       "      <td>EFFR</td>\n",
       "      <td>4.83</td>\n",
       "      <td>4.81</td>\n",
       "      <td>4.83</td>\n",
       "      <td>4.84</td>\n",
       "      <td>4.85</td>\n",
       "      <td>98</td>\n",
       "      <td>4.75</td>\n",
       "      <td>5.0</td>\n",
       "      <td>NaN</td>\n",
       "      <td>NaN</td>\n",
       "      <td>NaN</td>\n",
       "      <td>NaN</td>\n",
       "      <td>NaN</td>\n",
       "      <td>NaN</td>\n",
       "      <td>NaN</td>\n",
       "      <td>NaN</td>\n",
       "      <td>NaN</td>\n",
       "    </tr>\n",
       "    <tr>\n",
       "      <th>1</th>\n",
       "      <td>10/17/2024</td>\n",
       "      <td>EFFR</td>\n",
       "      <td>4.83</td>\n",
       "      <td>4.81</td>\n",
       "      <td>4.83</td>\n",
       "      <td>4.84</td>\n",
       "      <td>4.85</td>\n",
       "      <td>96</td>\n",
       "      <td>4.75</td>\n",
       "      <td>5.0</td>\n",
       "      <td>NaN</td>\n",
       "      <td>NaN</td>\n",
       "      <td>NaN</td>\n",
       "      <td>NaN</td>\n",
       "      <td>NaN</td>\n",
       "      <td>NaN</td>\n",
       "      <td>NaN</td>\n",
       "      <td>NaN</td>\n",
       "      <td>NaN</td>\n",
       "    </tr>\n",
       "    <tr>\n",
       "      <th>2</th>\n",
       "      <td>10/16/2024</td>\n",
       "      <td>EFFR</td>\n",
       "      <td>4.83</td>\n",
       "      <td>4.81</td>\n",
       "      <td>4.83</td>\n",
       "      <td>4.84</td>\n",
       "      <td>4.85</td>\n",
       "      <td>97</td>\n",
       "      <td>4.75</td>\n",
       "      <td>5.0</td>\n",
       "      <td>NaN</td>\n",
       "      <td>NaN</td>\n",
       "      <td>NaN</td>\n",
       "      <td>NaN</td>\n",
       "      <td>NaN</td>\n",
       "      <td>NaN</td>\n",
       "      <td>NaN</td>\n",
       "      <td>NaN</td>\n",
       "      <td>NaN</td>\n",
       "    </tr>\n",
       "    <tr>\n",
       "      <th>3</th>\n",
       "      <td>10/15/2024</td>\n",
       "      <td>EFFR</td>\n",
       "      <td>4.83</td>\n",
       "      <td>4.81</td>\n",
       "      <td>4.83</td>\n",
       "      <td>4.84</td>\n",
       "      <td>4.85</td>\n",
       "      <td>91</td>\n",
       "      <td>4.75</td>\n",
       "      <td>5.0</td>\n",
       "      <td>NaN</td>\n",
       "      <td>NaN</td>\n",
       "      <td>NaN</td>\n",
       "      <td>NaN</td>\n",
       "      <td>NaN</td>\n",
       "      <td>NaN</td>\n",
       "      <td>NaN</td>\n",
       "      <td>NaN</td>\n",
       "      <td>NaN</td>\n",
       "    </tr>\n",
       "    <tr>\n",
       "      <th>4</th>\n",
       "      <td>10/11/2024</td>\n",
       "      <td>EFFR</td>\n",
       "      <td>4.83</td>\n",
       "      <td>4.81</td>\n",
       "      <td>4.82</td>\n",
       "      <td>4.84</td>\n",
       "      <td>4.85</td>\n",
       "      <td>94</td>\n",
       "      <td>4.75</td>\n",
       "      <td>5.0</td>\n",
       "      <td>NaN</td>\n",
       "      <td>NaN</td>\n",
       "      <td>NaN</td>\n",
       "      <td>NaN</td>\n",
       "      <td>NaN</td>\n",
       "      <td>NaN</td>\n",
       "      <td>NaN</td>\n",
       "      <td>NaN</td>\n",
       "      <td>NaN</td>\n",
       "    </tr>\n",
       "  </tbody>\n",
       "</table>\n",
       "</div>"
      ],
      "text/plain": [
       "  Effective Date Rate Type  Rate (%)  1st Percentile (%)  25th Percentile (%)  \\\n",
       "0     10/18/2024      EFFR      4.83                4.81                 4.83   \n",
       "1     10/17/2024      EFFR      4.83                4.81                 4.83   \n",
       "2     10/16/2024      EFFR      4.83                4.81                 4.83   \n",
       "3     10/15/2024      EFFR      4.83                4.81                 4.83   \n",
       "4     10/11/2024      EFFR      4.83                4.81                 4.82   \n",
       "\n",
       "   75th Percentile (%)  99th Percentile (%)  Volume ($Billions)  \\\n",
       "0                 4.84                 4.85                  98   \n",
       "1                 4.84                 4.85                  96   \n",
       "2                 4.84                 4.85                  97   \n",
       "3                 4.84                 4.85                  91   \n",
       "4                 4.84                 4.85                  94   \n",
       "\n",
       "   Target Rate From (%)  Target Rate To (%)  Intra Day - Low (%)  \\\n",
       "0                  4.75                 5.0                  NaN   \n",
       "1                  4.75                 5.0                  NaN   \n",
       "2                  4.75                 5.0                  NaN   \n",
       "3                  4.75                 5.0                  NaN   \n",
       "4                  4.75                 5.0                  NaN   \n",
       "\n",
       "   Intra Day - High (%)  Standard Deviation (%)  30-Day Average SOFR  \\\n",
       "0                   NaN                     NaN                  NaN   \n",
       "1                   NaN                     NaN                  NaN   \n",
       "2                   NaN                     NaN                  NaN   \n",
       "3                   NaN                     NaN                  NaN   \n",
       "4                   NaN                     NaN                  NaN   \n",
       "\n",
       "   90-Day Average SOFR  180-Day Average SOFR  SOFR Index  \\\n",
       "0                  NaN                   NaN         NaN   \n",
       "1                  NaN                   NaN         NaN   \n",
       "2                  NaN                   NaN         NaN   \n",
       "3                  NaN                   NaN         NaN   \n",
       "4                  NaN                   NaN         NaN   \n",
       "\n",
       "   Revision Indicator (Y/N)  Footnote ID  \n",
       "0                       NaN          NaN  \n",
       "1                       NaN          NaN  \n",
       "2                       NaN          NaN  \n",
       "3                       NaN          NaN  \n",
       "4                       NaN          NaN  "
      ]
     },
     "execution_count": 9,
     "metadata": {},
     "output_type": "execute_result"
    }
   ],
   "source": [
    "effr_df.head()"
   ]
  },
  {
   "cell_type": "code",
   "execution_count": 10,
   "id": "c18eef47",
   "metadata": {},
   "outputs": [
    {
     "data": {
      "text/html": [
       "<div>\n",
       "<style scoped>\n",
       "    .dataframe tbody tr th:only-of-type {\n",
       "        vertical-align: middle;\n",
       "    }\n",
       "\n",
       "    .dataframe tbody tr th {\n",
       "        vertical-align: top;\n",
       "    }\n",
       "\n",
       "    .dataframe thead th {\n",
       "        text-align: right;\n",
       "    }\n",
       "</style>\n",
       "<table border=\"1\" class=\"dataframe\">\n",
       "  <thead>\n",
       "    <tr style=\"text-align: right;\">\n",
       "      <th></th>\n",
       "      <th>DATE</th>\n",
       "      <th>Rate</th>\n",
       "    </tr>\n",
       "  </thead>\n",
       "  <tbody>\n",
       "    <tr>\n",
       "      <th>0</th>\n",
       "      <td>2024-10-18</td>\n",
       "      <td>4.83</td>\n",
       "    </tr>\n",
       "    <tr>\n",
       "      <th>1</th>\n",
       "      <td>2024-10-17</td>\n",
       "      <td>4.83</td>\n",
       "    </tr>\n",
       "    <tr>\n",
       "      <th>2</th>\n",
       "      <td>2024-10-16</td>\n",
       "      <td>4.83</td>\n",
       "    </tr>\n",
       "    <tr>\n",
       "      <th>3</th>\n",
       "      <td>2024-10-15</td>\n",
       "      <td>4.83</td>\n",
       "    </tr>\n",
       "    <tr>\n",
       "      <th>4</th>\n",
       "      <td>2024-10-11</td>\n",
       "      <td>4.83</td>\n",
       "    </tr>\n",
       "    <tr>\n",
       "      <th>...</th>\n",
       "      <td>...</td>\n",
       "      <td>...</td>\n",
       "    </tr>\n",
       "    <tr>\n",
       "      <th>1252</th>\n",
       "      <td>2019-10-24</td>\n",
       "      <td>1.85</td>\n",
       "    </tr>\n",
       "    <tr>\n",
       "      <th>1253</th>\n",
       "      <td>2019-10-23</td>\n",
       "      <td>1.85</td>\n",
       "    </tr>\n",
       "    <tr>\n",
       "      <th>1254</th>\n",
       "      <td>2019-10-22</td>\n",
       "      <td>1.85</td>\n",
       "    </tr>\n",
       "    <tr>\n",
       "      <th>1255</th>\n",
       "      <td>2019-10-21</td>\n",
       "      <td>1.85</td>\n",
       "    </tr>\n",
       "    <tr>\n",
       "      <th>1256</th>\n",
       "      <td>2019-10-18</td>\n",
       "      <td>1.85</td>\n",
       "    </tr>\n",
       "  </tbody>\n",
       "</table>\n",
       "<p>1257 rows × 2 columns</p>\n",
       "</div>"
      ],
      "text/plain": [
       "           DATE  Rate\n",
       "0    2024-10-18  4.83\n",
       "1    2024-10-17  4.83\n",
       "2    2024-10-16  4.83\n",
       "3    2024-10-15  4.83\n",
       "4    2024-10-11  4.83\n",
       "...         ...   ...\n",
       "1252 2019-10-24  1.85\n",
       "1253 2019-10-23  1.85\n",
       "1254 2019-10-22  1.85\n",
       "1255 2019-10-21  1.85\n",
       "1256 2019-10-18  1.85\n",
       "\n",
       "[1257 rows x 2 columns]"
      ]
     },
     "execution_count": 10,
     "metadata": {},
     "output_type": "execute_result"
    }
   ],
   "source": [
    "effr_df['DATE'] = pd.to_datetime(effr_df['Effective Date'], format='%m/%d/%Y')\n",
    "effr_data = pd.concat([effr_df[\"DATE\"], effr_df[\"Rate (%)\"]], axis = 1)\n",
    "effr_data.rename(columns={\"Rate (%)\": \"Rate\"})"
   ]
  },
  {
   "cell_type": "code",
   "execution_count": 11,
   "id": "b5ef271d-19ed-4052-b121-e0c9039eddaa",
   "metadata": {},
   "outputs": [],
   "source": [
    "# Convert the DATE columns in both DataFrames to datetime format\n",
    "fx_data['DATE'] = pd.to_datetime(fx_data['DATE'])\n",
    "effr_data['DATE'] = pd.to_datetime(effr_data['DATE'])\n",
    "\n",
    "# Merge\n",
    "merged_data = pd.merge(fx_data, effr_data, how=\"inner\", on=\"DATE\")\n",
    "merged_data.dropna(inplace=True)"
   ]
  },
  {
   "cell_type": "code",
   "execution_count": 12,
   "id": "49494e81-25c8-430a-a3bc-a31ca7671f18",
   "metadata": {},
   "outputs": [
    {
     "data": {
      "text/html": [
       "<div>\n",
       "<style scoped>\n",
       "    .dataframe tbody tr th:only-of-type {\n",
       "        vertical-align: middle;\n",
       "    }\n",
       "\n",
       "    .dataframe tbody tr th {\n",
       "        vertical-align: top;\n",
       "    }\n",
       "\n",
       "    .dataframe thead th {\n",
       "        text-align: right;\n",
       "    }\n",
       "</style>\n",
       "<table border=\"1\" class=\"dataframe\">\n",
       "  <thead>\n",
       "    <tr style=\"text-align: right;\">\n",
       "      <th></th>\n",
       "      <th>DATE</th>\n",
       "      <th>DEXUSEU</th>\n",
       "      <th>Log_Return</th>\n",
       "      <th>Rate (%)</th>\n",
       "    </tr>\n",
       "  </thead>\n",
       "  <tbody>\n",
       "    <tr>\n",
       "      <th>1</th>\n",
       "      <td>2019-10-21</td>\n",
       "      <td>1.1145</td>\n",
       "      <td>-0.000897</td>\n",
       "      <td>1.85</td>\n",
       "    </tr>\n",
       "    <tr>\n",
       "      <th>2</th>\n",
       "      <td>2019-10-22</td>\n",
       "      <td>1.1138</td>\n",
       "      <td>-0.000628</td>\n",
       "      <td>1.85</td>\n",
       "    </tr>\n",
       "    <tr>\n",
       "      <th>3</th>\n",
       "      <td>2019-10-23</td>\n",
       "      <td>1.1118</td>\n",
       "      <td>-0.001797</td>\n",
       "      <td>1.85</td>\n",
       "    </tr>\n",
       "    <tr>\n",
       "      <th>4</th>\n",
       "      <td>2019-10-24</td>\n",
       "      <td>1.1098</td>\n",
       "      <td>-0.001801</td>\n",
       "      <td>1.85</td>\n",
       "    </tr>\n",
       "    <tr>\n",
       "      <th>5</th>\n",
       "      <td>2019-10-25</td>\n",
       "      <td>1.1081</td>\n",
       "      <td>-0.001533</td>\n",
       "      <td>1.83</td>\n",
       "    </tr>\n",
       "  </tbody>\n",
       "</table>\n",
       "</div>"
      ],
      "text/plain": [
       "        DATE  DEXUSEU  Log_Return  Rate (%)\n",
       "1 2019-10-21   1.1145   -0.000897      1.85\n",
       "2 2019-10-22   1.1138   -0.000628      1.85\n",
       "3 2019-10-23   1.1118   -0.001797      1.85\n",
       "4 2019-10-24   1.1098   -0.001801      1.85\n",
       "5 2019-10-25   1.1081   -0.001533      1.83"
      ]
     },
     "execution_count": 12,
     "metadata": {},
     "output_type": "execute_result"
    }
   ],
   "source": [
    "merged_data.head()"
   ]
  },
  {
   "cell_type": "code",
   "execution_count": null,
   "id": "b3e8a60b-9647-4bee-87fe-be05bf78e5e1",
   "metadata": {},
   "outputs": [],
   "source": []
  },
  {
   "cell_type": "code",
   "execution_count": 13,
   "id": "d53aab72",
   "metadata": {},
   "outputs": [],
   "source": [
    "log_returns = merged_data['Log_Return']\n",
    "ffr = merged_data['Rate (%)']"
   ]
  },
  {
   "cell_type": "code",
   "execution_count": 14,
   "id": "f28d0c97",
   "metadata": {},
   "outputs": [
    {
     "name": "stdout",
     "output_type": "stream",
     "text": [
      "                           AR - GARCH Model Results                           \n",
      "==============================================================================\n",
      "Dep. Variable:             Log_Return   R-squared:                   -2698.524\n",
      "Mean Model:                        AR   Adj. R-squared:              -2703.061\n",
      "Vol Model:                      GARCH   Log-Likelihood:               -4607.76\n",
      "Distribution:                  Normal   AIC:                           9227.53\n",
      "Method:            Maximum Likelihood   BIC:                           9258.03\n",
      "                                        No. Observations:                 1193\n",
      "Date:                Wed, Oct 22 2025   Df Residuals:                     1190\n",
      "Time:                        11:51:43   Df Model:                            3\n",
      "                                 Mean Model                                \n",
      "===========================================================================\n",
      "                    coef    std err          t      P>|t|  95.0% Conf. Int.\n",
      "---------------------------------------------------------------------------\n",
      "Const             0.2361  2.059e-02     11.470  1.874e-30 [  0.196,  0.276]\n",
      "Log_Return[1]    -1.9904     18.398     -0.108      0.914 [-38.050, 34.070]\n",
      "Log_Return[2]     6.8080     35.680      0.191      0.849 [-63.123, 76.739]\n",
      "                              Volatility Model                              \n",
      "============================================================================\n",
      "                 coef    std err          t      P>|t|      95.0% Conf. Int.\n",
      "----------------------------------------------------------------------------\n",
      "omega      4.2004e-07  4.368e-11   9616.751      0.000 [4.200e-07,4.201e-07]\n",
      "alpha[1]       0.0500      1.031  4.849e-02      0.961     [ -1.971,  2.071]\n",
      "beta[1]        0.9300      1.940      0.479      0.632     [ -2.872,  4.732]\n",
      "============================================================================\n",
      "\n",
      "Covariance estimator: robust\n",
      "WARNING: The optimizer did not indicate successful convergence. The message was Inequality constraints incompatible.\n",
      "See convergence_flag.\n",
      "\n"
     ]
    },
    {
     "name": "stderr",
     "output_type": "stream",
     "text": [
      "/opt/miniconda3/lib/python3.9/site-packages/arch/univariate/base.py:309: DataScaleWarning: y is poorly scaled, which may affect convergence of the optimizer when\n",
      "estimating the model parameters. The scale of y is 2.1e-05. Parameter\n",
      "estimation work better when this value is between 1 and 1000. The recommended\n",
      "rescaling is 100 * y.\n",
      "\n",
      "This warning can be disabled by either rescaling y before initializing the\n",
      "model or by setting rescale=False.\n",
      "\n",
      "  warnings.warn(\n",
      "/opt/miniconda3/lib/python3.9/site-packages/arch/univariate/base.py:768: ConvergenceWarning: The optimizer returned code 4. The message is:\n",
      "Inequality constraints incompatible\n",
      "See scipy.optimize.fmin_slsqp for code meaning.\n",
      "\n",
      "  warnings.warn(\n"
     ]
    }
   ],
   "source": [
    "# Define and fit the GARCH model with the Federal Funds Rate as an exogenous variable\n",
    "model = arch_model(log_returns, vol='Garch', p=1, q=1, mean='AR', lags=2, x=ffr)\n",
    "garch_fit = model.fit(disp='off')\n",
    "\n",
    "# Display the summary of the model\n",
    "print(garch_fit.summary())"
   ]
  },
  {
   "cell_type": "code",
   "execution_count": null,
   "id": "966e7a85",
   "metadata": {},
   "outputs": [],
   "source": []
  },
  {
   "cell_type": "code",
   "execution_count": 15,
   "id": "06544402",
   "metadata": {},
   "outputs": [],
   "source": [
    "# Forecast the conditional variance\n",
    "forecast = garch_fit.forecast(horizon=1, reindex=False)\n",
    "conditional_variance = forecast.variance.values[-1, :]"
   ]
  },
  {
   "cell_type": "code",
   "execution_count": 16,
   "id": "d91220d1",
   "metadata": {},
   "outputs": [],
   "source": [
    "forecast_mean = forecast.mean[-1:]"
   ]
  },
  {
   "cell_type": "code",
   "execution_count": 17,
   "id": "ec17ccf0",
   "metadata": {},
   "outputs": [
    {
     "data": {
      "text/html": [
       "<div>\n",
       "<style scoped>\n",
       "    .dataframe tbody tr th:only-of-type {\n",
       "        vertical-align: middle;\n",
       "    }\n",
       "\n",
       "    .dataframe tbody tr th {\n",
       "        vertical-align: top;\n",
       "    }\n",
       "\n",
       "    .dataframe thead th {\n",
       "        text-align: right;\n",
       "    }\n",
       "</style>\n",
       "<table border=\"1\" class=\"dataframe\">\n",
       "  <thead>\n",
       "    <tr style=\"text-align: right;\">\n",
       "      <th></th>\n",
       "      <th>h.1</th>\n",
       "    </tr>\n",
       "  </thead>\n",
       "  <tbody>\n",
       "    <tr>\n",
       "      <th>1256</th>\n",
       "      <td>0.21044</td>\n",
       "    </tr>\n",
       "  </tbody>\n",
       "</table>\n",
       "</div>"
      ],
      "text/plain": [
       "          h.1\n",
       "1256  0.21044"
      ]
     },
     "execution_count": 17,
     "metadata": {},
     "output_type": "execute_result"
    }
   ],
   "source": [
    "forecast_mean "
   ]
  },
  {
   "cell_type": "code",
   "execution_count": 18,
   "id": "c86a94ad",
   "metadata": {},
   "outputs": [],
   "source": [
    "# Select a specific date for Value at Risk calculation: the last known date\n",
    "specific_date_index = log_returns.dropna().index[-1]"
   ]
  },
  {
   "cell_type": "code",
   "execution_count": 20,
   "id": "8956a13c",
   "metadata": {},
   "outputs": [
    {
     "data": {
      "image/png": "[encoded data removed]",
      "text/plain": [
       "<Figure size 1000x600 with 1 Axes>"
      ]
     },
     "metadata": {},
     "output_type": "display_data"
    }
   ],
   "source": [
    "# Calculate VaR at 10% (both tails)\n",
    "quantile = 0.05  # 10% in total, so 5% in each tail\n",
    "VaR = np.sqrt(conditional_variance) * np.percentile(np.random.normal(0, 1, 10000), [quantile*100, (1 - quantile)*100])\n",
    "\n",
    "# Generate random samples from the conditional distribution\n",
    "simulated_returns = np.random.normal(0, np.sqrt(conditional_variance), 1000)\n",
    "\n",
    "# Plot the conditional distribution for the specific date\n",
    "plt.figure(figsize=(10, 6))\n",
    "plt.hist(simulated_returns, bins=50, alpha=0.75)\n",
    "plt.axvline(x=VaR[0], color='red', linestyle='--', label=f'VaR 5%: {VaR[0]:.4f}')\n",
    "plt.axvline(x=VaR[1], color='blue', linestyle='--', label=f'VaR 95%: {VaR[1]:.4f}')\n",
    "plt.title(f'Conditional Distribution')\n",
    "plt.xlabel('Log Return')\n",
    "plt.ylabel('Frequency')\n",
    "plt.legend()\n",
    "plt.show()"
   ]
  },
  {
   "cell_type": "code",
   "execution_count": null,
   "id": "a611f2a8",
   "metadata": {},
   "outputs": [],
   "source": []
  },
  {
   "cell_type": "code",
   "execution_count": null,
   "id": "704385f9-afe1-4c43-a446-c12ff8505fa0",
   "metadata": {},
   "outputs": [],
   "source": []
  },
  {
   "cell_type": "code",
   "execution_count": null,
   "id": "dcca5801-c496-4de3-9db9-5148df4c58b3",
   "metadata": {},
   "outputs": [],
   "source": []
  },
  {
   "cell_type": "code",
   "execution_count": 21,
   "id": "a3502c45-4d29-4e8d-8891-17d824281750",
   "metadata": {},
   "outputs": [],
   "source": [
    "# Test Question Q.3"
   ]
  },
  {
   "cell_type": "code",
   "execution_count": 22,
   "id": "b6722afa-d468-471b-a515-cf13a70a16e1",
   "metadata": {},
   "outputs": [],
   "source": [
    "fx_data = fx_data.dropna()"
   ]
  },
  {
   "cell_type": "code",
   "execution_count": 23,
   "id": "90c8713a-6399-4a59-8825-43a61f1b851c",
   "metadata": {},
   "outputs": [
    {
     "name": "stderr",
     "output_type": "stream",
     "text": [
      "2024-10-26 20:25:16.936639: I tensorflow/core/platform/cpu_feature_guard.cc:210] This TensorFlow binary is optimized to use available CPU instructions in performance-critical operations.\n",
      "To enable the following instructions: AVX2 AVX512F AVX512_VNNI FMA, in other operations, rebuild TensorFlow with the appropriate compiler flags.\n"
     ]
    }
   ],
   "source": [
    "from sklearn.preprocessing import MinMaxScaler\n",
    "from tensorflow.keras.models import Sequential\n",
    "from tensorflow.keras.layers import LSTM, Dense, Dropout"
   ]
  },
  {
   "cell_type": "code",
   "execution_count": 24,
   "id": "69851d3f-6e3f-4d89-9cd7-569d1eba1c34",
   "metadata": {},
   "outputs": [],
   "source": [
    "# Feature scaling - Normalize the 'DEXUSEU' column for the LSTM model\n",
    "scaler = MinMaxScaler(feature_range=(0, 1))\n",
    "scaled_data = scaler.fit_transform(fx_data[['DEXUSEU']])"
   ]
  },
  {
   "cell_type": "code",
   "execution_count": 25,
   "id": "ef3f2f07-fe55-4ae6-b4e4-77c7f5b44c56",
   "metadata": {},
   "outputs": [
    {
     "data": {
      "text/plain": [
       "array([[0.57073535],\n",
       "       [0.56812243],\n",
       "       [0.56065696],\n",
       "       ...,\n",
       "       [0.46920493],\n",
       "       [0.45576708],\n",
       "       [0.46211273]])"
      ]
     },
     "execution_count": 25,
     "metadata": {},
     "output_type": "execute_result"
    }
   ],
   "source": [
    "scaled_data "
   ]
  },
  {
   "cell_type": "code",
   "execution_count": 26,
   "id": "0d59926a-027a-47f0-a8c2-1fb7a752a12a",
   "metadata": {},
   "outputs": [],
   "source": [
    "# Create sequences of data for LSTM\n",
    "def create_sequences(data, log_returns, time_step=60):\n",
    "    X, y = [], []\n",
    "    for i in range(time_step, len(data)):\n",
    "        X.append(data[i-time_step:i, 0])  # Using the past 'time_step' data points\n",
    "        y.append(log_returns[i])          # The log return to predict\n",
    "    return np.array(X), np.array(y)\n",
    "\n"
   ]
  },
  {
   "cell_type": "code",
   "execution_count": 27,
   "id": "6e4d304b-d9b7-42ce-a4c5-77c9e1020837",
   "metadata": {},
   "outputs": [],
   "source": [
    "# Use the last 60 days to predict the next day\n",
    "time_step = 60\n",
    "\n",
    "# Create sequences (features and labels)\n",
    "X, y = create_sequences(scaled_data, fx_data['Log_Return'].values, time_step)\n",
    "\n",
    "# Reshape X for the LSTM model (sample, time step, feature)\n",
    "X = X.reshape(X.shape[0], X.shape[1], 1)"
   ]
  },
  {
   "cell_type": "code",
   "execution_count": null,
   "id": "8142a257-ac28-4530-bb33-54416c831707",
   "metadata": {},
   "outputs": [],
   "source": []
  },
  {
   "cell_type": "code",
   "execution_count": 28,
   "id": "6a64bd92-bd6a-4d07-a3fa-137ad24319a4",
   "metadata": {},
   "outputs": [
    {
     "name": "stdout",
     "output_type": "stream",
     "text": [
      "Epoch 1/20\n"
     ]
    },
    {
     "name": "stderr",
     "output_type": "stream",
     "text": [
      "/opt/miniconda3/lib/python3.9/site-packages/keras/src/layers/rnn/rnn.py:204: UserWarning: Do not pass an `input_shape`/`input_dim` argument to a layer. When using Sequential models, prefer using an `Input(shape)` object as the first layer in the model instead.\n",
      "  super().__init__(**kwargs)\n"
     ]
    },
    {
     "name": "stdout",
     "output_type": "stream",
     "text": [
      "\u001b[1m29/29\u001b[0m \u001b[32m━━━━━━━━━━━━━━━━━━━━\u001b[0m\u001b[37m\u001b[0m \u001b[1m3s\u001b[0m 33ms/step - loss: 8.8839e-04 - val_loss: 1.3952e-05\n",
      "Epoch 2/20\n",
      "\u001b[1m29/29\u001b[0m \u001b[32m━━━━━━━━━━━━━━━━━━━━\u001b[0m\u001b[37m\u001b[0m \u001b[1m1s\u001b[0m 21ms/step - loss: 1.1804e-04 - val_loss: 3.0379e-05\n",
      "Epoch 3/20\n",
      "\u001b[1m29/29\u001b[0m \u001b[32m━━━━━━━━━━━━━━━━━━━━\u001b[0m\u001b[37m\u001b[0m \u001b[1m1s\u001b[0m 23ms/step - loss: 8.2378e-05 - val_loss: 2.1749e-05\n",
      "Epoch 4/20\n",
      "\u001b[1m29/29\u001b[0m \u001b[32m━━━━━━━━━━━━━━━━━━━━\u001b[0m\u001b[37m\u001b[0m \u001b[1m1s\u001b[0m 23ms/step - loss: 6.4707e-05 - val_loss: 1.6321e-05\n",
      "Epoch 5/20\n",
      "\u001b[1m29/29\u001b[0m \u001b[32m━━━━━━━━━━━━━━━━━━━━\u001b[0m\u001b[37m\u001b[0m \u001b[1m1s\u001b[0m 23ms/step - loss: 5.9276e-05 - val_loss: 1.3625e-05\n",
      "Epoch 6/20\n",
      "\u001b[1m29/29\u001b[0m \u001b[32m━━━━━━━━━━━━━━━━━━━━\u001b[0m\u001b[37m\u001b[0m \u001b[1m1s\u001b[0m 24ms/step - loss: 5.3641e-05 - val_loss: 1.5802e-05\n",
      "Epoch 7/20\n",
      "\u001b[1m29/29\u001b[0m \u001b[32m━━━━━━━━━━━━━━━━━━━━\u001b[0m\u001b[37m\u001b[0m \u001b[1m1s\u001b[0m 24ms/step - loss: 4.4313e-05 - val_loss: 1.3295e-05\n",
      "Epoch 8/20\n",
      "\u001b[1m29/29\u001b[0m \u001b[32m━━━━━━━━━━━━━━━━━━━━\u001b[0m\u001b[37m\u001b[0m \u001b[1m1s\u001b[0m 25ms/step - loss: 4.3899e-05 - val_loss: 1.7102e-05\n",
      "Epoch 9/20\n",
      "\u001b[1m29/29\u001b[0m \u001b[32m━━━━━━━━━━━━━━━━━━━━\u001b[0m\u001b[37m\u001b[0m \u001b[1m1s\u001b[0m 24ms/step - loss: 4.2262e-05 - val_loss: 1.3775e-05\n",
      "Epoch 10/20\n",
      "\u001b[1m29/29\u001b[0m \u001b[32m━━━━━━━━━━━━━━━━━━━━\u001b[0m\u001b[37m\u001b[0m \u001b[1m1s\u001b[0m 24ms/step - loss: 4.1096e-05 - val_loss: 1.3918e-05\n",
      "Epoch 11/20\n",
      "\u001b[1m29/29\u001b[0m \u001b[32m━━━━━━━━━━━━━━━━━━━━\u001b[0m\u001b[37m\u001b[0m \u001b[1m1s\u001b[0m 24ms/step - loss: 3.9461e-05 - val_loss: 2.0235e-05\n",
      "Epoch 12/20\n",
      "\u001b[1m29/29\u001b[0m \u001b[32m━━━━━━━━━━━━━━━━━━━━\u001b[0m\u001b[37m\u001b[0m \u001b[1m1s\u001b[0m 22ms/step - loss: 4.1596e-05 - val_loss: 1.3996e-05\n",
      "Epoch 13/20\n",
      "\u001b[1m29/29\u001b[0m \u001b[32m━━━━━━━━━━━━━━━━━━━━\u001b[0m\u001b[37m\u001b[0m \u001b[1m1s\u001b[0m 22ms/step - loss: 3.4041e-05 - val_loss: 1.4348e-05\n",
      "Epoch 14/20\n",
      "\u001b[1m29/29\u001b[0m \u001b[32m━━━━━━━━━━━━━━━━━━━━\u001b[0m\u001b[37m\u001b[0m \u001b[1m1s\u001b[0m 22ms/step - loss: 3.6446e-05 - val_loss: 1.4258e-05\n",
      "Epoch 15/20\n",
      "\u001b[1m29/29\u001b[0m \u001b[32m━━━━━━━━━━━━━━━━━━━━\u001b[0m\u001b[37m\u001b[0m \u001b[1m1s\u001b[0m 22ms/step - loss: 3.3139e-05 - val_loss: 1.8100e-05\n",
      "Epoch 16/20\n",
      "\u001b[1m29/29\u001b[0m \u001b[32m━━━━━━━━━━━━━━━━━━━━\u001b[0m\u001b[37m\u001b[0m \u001b[1m1s\u001b[0m 22ms/step - loss: 3.7406e-05 - val_loss: 1.3262e-05\n",
      "Epoch 17/20\n",
      "\u001b[1m29/29\u001b[0m \u001b[32m━━━━━━━━━━━━━━━━━━━━\u001b[0m\u001b[37m\u001b[0m \u001b[1m1s\u001b[0m 22ms/step - loss: 3.3270e-05 - val_loss: 1.5617e-05\n",
      "Epoch 18/20\n",
      "\u001b[1m29/29\u001b[0m \u001b[32m━━━━━━━━━━━━━━━━━━━━\u001b[0m\u001b[37m\u001b[0m \u001b[1m1s\u001b[0m 22ms/step - loss: 3.2114e-05 - val_loss: 1.3317e-05\n",
      "Epoch 19/20\n",
      "\u001b[1m29/29\u001b[0m \u001b[32m━━━━━━━━━━━━━━━━━━━━\u001b[0m\u001b[37m\u001b[0m \u001b[1m1s\u001b[0m 24ms/step - loss: 3.1393e-05 - val_loss: 1.7611e-05\n",
      "Epoch 20/20\n",
      "\u001b[1m29/29\u001b[0m \u001b[32m━━━━━━━━━━━━━━━━━━━━\u001b[0m\u001b[37m\u001b[0m \u001b[1m1s\u001b[0m 22ms/step - loss: 3.6897e-05 - val_loss: 1.5044e-05\n"
     ]
    },
    {
     "data": {
      "text/html": [
       "<pre style=\"white-space:pre;overflow-x:auto;line-height:normal;font-family:Menlo,'DejaVu Sans Mono',consolas,'Courier New',monospace\"><span style=\"font-weight: bold\">Model: \"sequential\"</span>\n",
       "</pre>\n"
      ],
      "text/plain": [
       "\u001b[1mModel: \"sequential\"\u001b[0m\n"
      ]
     },
     "metadata": {},
     "output_type": "display_data"
    },
    {
     "data": {
      "text/html": [
       "<pre style=\"white-space:pre;overflow-x:auto;line-height:normal;font-family:Menlo,'DejaVu Sans Mono',consolas,'Courier New',monospace\">┏━━━━━━━━━━━━━━━━━━━━━━━━━━━━━━━━━┳━━━━━━━━━━━━━━━━━━━━━━━━┳━━━━━━━━━━━━━━━┓\n",
       "┃<span style=\"font-weight: bold\"> Layer (type)                    </span>┃<span style=\"font-weight: bold\"> Output Shape           </span>┃<span style=\"font-weight: bold\">       Param # </span>┃\n",
       "┡━━━━━━━━━━━━━━━━━━━━━━━━━━━━━━━━━╇━━━━━━━━━━━━━━━━━━━━━━━━╇━━━━━━━━━━━━━━━┩\n",
       "│ lstm (<span style=\"color: #0087ff; text-decoration-color: #0087ff\">LSTM</span>)                     │ (<span style=\"color: #00d7ff; text-decoration-color: #00d7ff\">None</span>, <span style=\"color: #00af00; text-decoration-color: #00af00\">60</span>, <span style=\"color: #00af00; text-decoration-color: #00af00\">50</span>)         │        <span style=\"color: #00af00; text-decoration-color: #00af00\">10,400</span> │\n",
       "├─────────────────────────────────┼────────────────────────┼───────────────┤\n",
       "│ dropout (<span style=\"color: #0087ff; text-decoration-color: #0087ff\">Dropout</span>)               │ (<span style=\"color: #00d7ff; text-decoration-color: #00d7ff\">None</span>, <span style=\"color: #00af00; text-decoration-color: #00af00\">60</span>, <span style=\"color: #00af00; text-decoration-color: #00af00\">50</span>)         │             <span style=\"color: #00af00; text-decoration-color: #00af00\">0</span> │\n",
       "├─────────────────────────────────┼────────────────────────┼───────────────┤\n",
       "│ lstm_1 (<span style=\"color: #0087ff; text-decoration-color: #0087ff\">LSTM</span>)                   │ (<span style=\"color: #00d7ff; text-decoration-color: #00d7ff\">None</span>, <span style=\"color: #00af00; text-decoration-color: #00af00\">50</span>)             │        <span style=\"color: #00af00; text-decoration-color: #00af00\">20,200</span> │\n",
       "├─────────────────────────────────┼────────────────────────┼───────────────┤\n",
       "│ dropout_1 (<span style=\"color: #0087ff; text-decoration-color: #0087ff\">Dropout</span>)             │ (<span style=\"color: #00d7ff; text-decoration-color: #00d7ff\">None</span>, <span style=\"color: #00af00; text-decoration-color: #00af00\">50</span>)             │             <span style=\"color: #00af00; text-decoration-color: #00af00\">0</span> │\n",
       "├─────────────────────────────────┼────────────────────────┼───────────────┤\n",
       "│ dense (<span style=\"color: #0087ff; text-decoration-color: #0087ff\">Dense</span>)                   │ (<span style=\"color: #00d7ff; text-decoration-color: #00d7ff\">None</span>, <span style=\"color: #00af00; text-decoration-color: #00af00\">1</span>)              │            <span style=\"color: #00af00; text-decoration-color: #00af00\">51</span> │\n",
       "└─────────────────────────────────┴────────────────────────┴───────────────┘\n",
       "</pre>\n"
      ],
      "text/plain": [
       "┏━━━━━━━━━━━━━━━━━━━━━━━━━━━━━━━━━┳━━━━━━━━━━━━━━━━━━━━━━━━┳━━━━━━━━━━━━━━━┓\n",
       "┃\u001b[1m \u001b[0m\u001b[1mLayer (type)                   \u001b[0m\u001b[1m \u001b[0m┃\u001b[1m \u001b[0m\u001b[1mOutput Shape          \u001b[0m\u001b[1m \u001b[0m┃\u001b[1m \u001b[0m\u001b[1m      Param #\u001b[0m\u001b[1m \u001b[0m┃\n",
       "┡━━━━━━━━━━━━━━━━━━━━━━━━━━━━━━━━━╇━━━━━━━━━━━━━━━━━━━━━━━━╇━━━━━━━━━━━━━━━┩\n",
       "│ lstm (\u001b[38;5;33mLSTM\u001b[0m)                     │ (\u001b[38;5;45mNone\u001b[0m, \u001b[38;5;34m60\u001b[0m, \u001b[38;5;34m50\u001b[0m)         │        \u001b[38;5;34m10,400\u001b[0m │\n",
       "├─────────────────────────────────┼────────────────────────┼───────────────┤\n",
       "│ dropout (\u001b[38;5;33mDropout\u001b[0m)               │ (\u001b[38;5;45mNone\u001b[0m, \u001b[38;5;34m60\u001b[0m, \u001b[38;5;34m50\u001b[0m)         │             \u001b[38;5;34m0\u001b[0m │\n",
       "├─────────────────────────────────┼────────────────────────┼───────────────┤\n",
       "│ lstm_1 (\u001b[38;5;33mLSTM\u001b[0m)                   │ (\u001b[38;5;45mNone\u001b[0m, \u001b[38;5;34m50\u001b[0m)             │        \u001b[38;5;34m20,200\u001b[0m │\n",
       "├─────────────────────────────────┼────────────────────────┼───────────────┤\n",
       "│ dropout_1 (\u001b[38;5;33mDropout\u001b[0m)             │ (\u001b[38;5;45mNone\u001b[0m, \u001b[38;5;34m50\u001b[0m)             │             \u001b[38;5;34m0\u001b[0m │\n",
       "├─────────────────────────────────┼────────────────────────┼───────────────┤\n",
       "│ dense (\u001b[38;5;33mDense\u001b[0m)                   │ (\u001b[38;5;45mNone\u001b[0m, \u001b[38;5;34m1\u001b[0m)              │            \u001b[38;5;34m51\u001b[0m │\n",
       "└─────────────────────────────────┴────────────────────────┴───────────────┘\n"
      ]
     },
     "metadata": {},
     "output_type": "display_data"
    },
    {
     "data": {
      "text/html": [
       "<pre style=\"white-space:pre;overflow-x:auto;line-height:normal;font-family:Menlo,'DejaVu Sans Mono',consolas,'Courier New',monospace\"><span style=\"font-weight: bold\"> Total params: </span><span style=\"color: #00af00; text-decoration-color: #00af00\">91,955</span> (359.20 KB)\n",
       "</pre>\n"
      ],
      "text/plain": [
       "\u001b[1m Total params: \u001b[0m\u001b[38;5;34m91,955\u001b[0m (359.20 KB)\n"
      ]
     },
     "metadata": {},
     "output_type": "display_data"
    },
    {
     "data": {
      "text/html": [
       "<pre style=\"white-space:pre;overflow-x:auto;line-height:normal;font-family:Menlo,'DejaVu Sans Mono',consolas,'Courier New',monospace\"><span style=\"font-weight: bold\"> Trainable params: </span><span style=\"color: #00af00; text-decoration-color: #00af00\">30,651</span> (119.73 KB)\n",
       "</pre>\n"
      ],
      "text/plain": [
       "\u001b[1m Trainable params: \u001b[0m\u001b[38;5;34m30,651\u001b[0m (119.73 KB)\n"
      ]
     },
     "metadata": {},
     "output_type": "display_data"
    },
    {
     "data": {
      "text/html": [
       "<pre style=\"white-space:pre;overflow-x:auto;line-height:normal;font-family:Menlo,'DejaVu Sans Mono',consolas,'Courier New',monospace\"><span style=\"font-weight: bold\"> Non-trainable params: </span><span style=\"color: #00af00; text-decoration-color: #00af00\">0</span> (0.00 B)\n",
       "</pre>\n"
      ],
      "text/plain": [
       "\u001b[1m Non-trainable params: \u001b[0m\u001b[38;5;34m0\u001b[0m (0.00 B)\n"
      ]
     },
     "metadata": {},
     "output_type": "display_data"
    },
    {
     "data": {
      "text/html": [
       "<pre style=\"white-space:pre;overflow-x:auto;line-height:normal;font-family:Menlo,'DejaVu Sans Mono',consolas,'Courier New',monospace\"><span style=\"font-weight: bold\"> Optimizer params: </span><span style=\"color: #00af00; text-decoration-color: #00af00\">61,304</span> (239.47 KB)\n",
       "</pre>\n"
      ],
      "text/plain": [
       "\u001b[1m Optimizer params: \u001b[0m\u001b[38;5;34m61,304\u001b[0m (239.47 KB)\n"
      ]
     },
     "metadata": {},
     "output_type": "display_data"
    }
   ],
   "source": [
    "# Construct the model\n",
    "model = Sequential()\n",
    "\n",
    "# add the LSTM layer\n",
    "model.add(LSTM(units=50, return_sequences=True, input_shape=(X.shape[1], 1)))\n",
    "model.add(Dropout(0.2))\n",
    "\n",
    "# add another LSTM layer\n",
    "model.add(LSTM(units=50, return_sequences=False))\n",
    "model.add(Dropout(0.2))\n",
    "\n",
    "# add a dense layer for the output\n",
    "model.add(Dense(units=1))  # Single output for log return prediction\n",
    "\n",
    "# Fit the model\n",
    "model.compile(optimizer='adam', loss='mean_squared_error')\n",
    "history = model.fit(X, y, epochs=20, batch_size=32, validation_split=0.2, verbose=1)\n",
    "model.summary()"
   ]
  },
  {
   "cell_type": "code",
   "execution_count": null,
   "id": "4b73f0f9-ff63-400d-aaa1-f6b6815eebb4",
   "metadata": {},
   "outputs": [],
   "source": []
  },
  {
   "cell_type": "code",
   "execution_count": 29,
   "id": "c60343e1-78b8-4021-b1c7-26f380485294",
   "metadata": {},
   "outputs": [
    {
     "name": "stdout",
     "output_type": "stream",
     "text": [
      "\u001b[1m1/1\u001b[0m \u001b[32m━━━━━━━━━━━━━━━━━━━━\u001b[0m\u001b[37m\u001b[0m \u001b[1m0s\u001b[0m 201ms/step\n"
     ]
    }
   ],
   "source": [
    "# Predict the next log return\n",
    "\n",
    "last_sequence = scaled_data[-time_step:]   \n",
    "\n",
    "# Reshape the data for the model\n",
    "last_sequence = last_sequence.reshape(1, time_step, 1)\n",
    "\n",
    "# Predict the next log return\n",
    "predicted_log_return = model.predict(last_sequence)"
   ]
  },
  {
   "cell_type": "code",
   "execution_count": 30,
   "id": "83b6a6cc-0624-4b56-8024-e8803e7f6eb9",
   "metadata": {},
   "outputs": [
    {
     "name": "stdout",
     "output_type": "stream",
     "text": [
      "Predicted log return: -0.0013728945050388575\n"
     ]
    }
   ],
   "source": [
    "print(f\"Predicted log return: {predicted_log_return[0][0]}\")"
   ]
  },
  {
   "cell_type": "code",
   "execution_count": null,
   "id": "60cc8b92-7471-4699-8e86-15ca2ea87924",
   "metadata": {},
   "outputs": [],
   "source": []
  },
  {
   "cell_type": "code",
   "execution_count": null,
   "id": "ff734f64-069b-4112-8c93-aac8bd678cf8",
   "metadata": {},
   "outputs": [],
   "source": []
  }
 ],
 "metadata": {
  "kernelspec": {
   "display_name": "Python 3 (ipykernel)",
   "language": "python",
   "name": "python3"
  },
  "language_info": {
   "codemirror_mode": {
    "name": "ipython",
    "version": 3
   },
   "file_extension": ".py",
   "mimetype": "text/x-python",
   "name": "python",
   "nbconvert_exporter": "python",
   "pygments_lexer": "ipython3",
   "version": "3.9.13"
  }
 },
 "nbformat": 4,
 "nbformat_minor": 5
}
